{
 "cells": [
  {
   "cell_type": "markdown",
   "id": "dc78a300",
   "metadata": {},
   "source": [
    "1. Обучить любую модель классификации на датасете IRIS до применения самописного PCA (2 компоненты) и после него. Сравнить качество классификации по отложенной выборке.\n",
    "2. *Написать свою реализацию метода главных компонент с помощью сингулярного разложения с использованием функции [numpy.linalg.svd()](https://docs.scipy.org/doc/numpy/reference/generated/numpy.linalg.svd.html)"
   ]
  },
  {
   "cell_type": "code",
   "execution_count": 1,
   "id": "02989cb1",
   "metadata": {},
   "outputs": [],
   "source": [
    "import numpy as np\n",
    "from sklearn import datasets\n",
    "import matplotlib.pyplot as plt\n",
    "import random\n",
    "\n",
    "from sklearn.datasets import load_iris\n",
    "from sklearn.model_selection import train_test_split\n",
    "\n",
    "from sklearn.decomposition import PCA"
   ]
  },
  {
   "cell_type": "code",
   "execution_count": 2,
   "id": "ad9891c5",
   "metadata": {},
   "outputs": [],
   "source": [
    "#Реализуем генерацию  𝑁 бутстрап-выборок и подмножества признаков для нахождения разбиения в узле.\n",
    "np.random.seed(42)\n",
    "\n",
    "def get_bootstrap(data, labels, N): # N-сколько на выходе мы хотим получить подвыборок\n",
    "    n_samples = data.shape[0] # размер совпадает с исходной выборкой\n",
    "    bootstrap = [] #список в который запишем наши бустропированые подвыборки\n",
    "    for i in range(N):# циклом проходимся по колличеству будующих деревьев в композиции\n",
    "        \n",
    "        sample_index = np.random.randint(0, n_samples, size=n_samples)#генерируем индексы в том колличестве сколько у нас всего обьектов, т.е. в нашем случае 1000 обьектов\n",
    "        b_data = data[sample_index] # признаки для обучения\n",
    "        b_labels = labels[sample_index] #целевые значения для обучения\n",
    "        \n",
    "        bootstrap.append((b_data, b_labels))#добовление бустропированной выборки\n",
    "        \n",
    "    return bootstrap #возвращаем кортеж из признаков и целевых значений"
   ]
  },
  {
   "cell_type": "code",
   "execution_count": 3,
   "id": "e01c114a",
   "metadata": {},
   "outputs": [],
   "source": [
    "#создаем функцию для получение признаков для каждого уникального вопроса\n",
    "def get_subsample(len_sample): # подаем кол-во признаков\n",
    "    # будем сохранять не сами признаки, а их индексы\n",
    "    sample_indexes = list(range(len_sample))\n",
    "\n",
    "    len_subsample = int(np.round(np.sqrt(len_sample)))# т.к задача на классификацию, \n",
    "    #то берем корень квадратный из общего колличества признаков, \n",
    "    #на регрессию общее кол-во ппризнаков деленное на 3\n",
    "    \n",
    "    subsample = np.random.choice(sample_indexes, size=len_subsample, replace=False)#replace=False без повторения,\n",
    "    #что бы небыло дублирований в признаках для обучения\n",
    "\n",
    "    return subsample"
   ]
  },
  {
   "cell_type": "code",
   "execution_count": 4,
   "id": "365a2387",
   "metadata": {},
   "outputs": [],
   "source": [
    "# Реализуем класс узла, в нем лежит сам вопрос для выборки\n",
    "\n",
    "class Node:\n",
    "    \n",
    "    def __init__(self, index, t, true_branch, false_branch):\n",
    "        self.index = index  # индекс признака, по которому ведется сравнение с порогом в этом узле\n",
    "        self.t = t  # значение порога\n",
    "        self.true_branch = true_branch  # поддерево, удовлетворяющее условию в узле\n",
    "        self.false_branch = false_branch  # поддерево, не удовлетворяющее условию в узле"
   ]
  },
  {
   "cell_type": "code",
   "execution_count": 5,
   "id": "21ad255a",
   "metadata": {},
   "outputs": [],
   "source": [
    "# И класс терминального узла (листа)\n",
    "\n",
    "class Leaf:\n",
    "    \n",
    "    def __init__(self, data, labels):\n",
    "        self.data = data\n",
    "        self.labels = labels\n",
    "        self.prediction = self.predict()\n",
    "        \n",
    "    def predict(self):\n",
    "        # подсчет количества объектов разных классов\n",
    "        classes = {}  # сформируем словарь \"класс: количество объектов\"\n",
    "        for label in self.labels:\n",
    "            if label not in classes:\n",
    "                classes[label] = 0\n",
    "            classes[label] += 1\n",
    "            \n",
    "        # найдем класс, количество объектов которого будет максимальным в этом листе и вернем его    \n",
    "        prediction = max(classes, key=classes.get) #берем самый популярный класс, делаем \"голосование\",\n",
    "        #если бы была регрессия брали бы среднее по выборке\n",
    "        return prediction   "
   ]
  },
  {
   "cell_type": "code",
   "execution_count": 6,
   "id": "6dcf0ae4",
   "metadata": {},
   "outputs": [],
   "source": [
    "# Расчет критерия Джини(информативности)\n",
    "\n",
    "def gini(labels):\n",
    "    #  подсчет количества объектов разных классов\n",
    "    classes = {}\n",
    "    for label in labels:\n",
    "        if label not in classes:\n",
    "            classes[label] = 0\n",
    "        classes[label] += 1\n",
    "    \n",
    "    #  расчет критерия\n",
    "    impurity = 1\n",
    "    for label in classes:\n",
    "        p = classes[label] / len(labels) #вероятность появления кождого класса в выборке\n",
    "        impurity -= p ** 2 #возводим вероятность в квадрат и вычетаем из 1\n",
    "        \n",
    "    return impurity"
   ]
  },
  {
   "cell_type": "code",
   "execution_count": 7,
   "id": "0d19c6cf",
   "metadata": {},
   "outputs": [],
   "source": [
    "# Расчет прироста\n",
    "\n",
    "def gain(left_labels, right_labels, root_gini):\n",
    "\n",
    "    # доля выборки, ушедшая в левое поддерево\n",
    "    p = float(left_labels.shape[0]) / (left_labels.shape[0] + right_labels.shape[0])\n",
    "    \n",
    "    return root_gini - p * gini(left_labels) - (1 - p) * gini(right_labels)"
   ]
  },
  {
   "cell_type": "code",
   "execution_count": 8,
   "id": "3bd4065c",
   "metadata": {},
   "outputs": [],
   "source": [
    "# Разбиение датасета в узле\n",
    "\n",
    "def split(data, labels, column_index, t):\n",
    "    \n",
    "    left = np.where(data[:, column_index] <= t)\n",
    "    right = np.where(data[:, column_index] > t)\n",
    "        \n",
    "    true_data = data[left]\n",
    "    false_data = data[right]\n",
    "    \n",
    "    true_labels = labels[left]\n",
    "    false_labels = labels[right]\n",
    "        \n",
    "    return true_data, false_data, true_labels, false_labels"
   ]
  },
  {
   "cell_type": "code",
   "execution_count": 9,
   "id": "6c5509ff",
   "metadata": {},
   "outputs": [],
   "source": [
    "# Нахождение наилучшего разбиения\n",
    "\n",
    "def find_best_split(data, labels):\n",
    "    \n",
    "    #  обозначим минимальное количество объектов в узле\n",
    "#     min_leaf_samples = 5\n",
    "\n",
    "    root_gini = gini(labels)\n",
    "\n",
    "    best_gain = 0\n",
    "    best_t = None\n",
    "    best_index = None\n",
    "    \n",
    "    n_features = data.shape[1]\n",
    "    \n",
    "    feature_subsample_indices = get_subsample(n_features) # выбираем случайные признаки\n",
    "#на них мы будем выберать самый лучьший вопрос    \n",
    "    for index in feature_subsample_indices:\n",
    "        # будем проверять только уникальные значения признака, исключая повторения\n",
    "        t_values = np.unique(data[:, index])\n",
    "        \n",
    "        for t in t_values:\n",
    "            true_data, false_data, true_labels, false_labels = split(data, labels, index, t)\n",
    "            #  пропускаем разбиения, в которых в узле остается менее 5 объектов\n",
    "#             if len(true_data) < min_leaf_samples or len(false_data) < min_leaf_samples:\n",
    "#                 continue\n",
    "            \n",
    "            current_gain = gain(true_labels, false_labels, root_gini)\n",
    "            \n",
    "            #  выбираем порог, на котором получается максимальный прирост качества\n",
    "            if current_gain > best_gain:\n",
    "                best_gain, best_t, best_index = current_gain, t, index\n",
    "\n",
    "    return best_gain, best_t, best_index"
   ]
  },
  {
   "cell_type": "code",
   "execution_count": 10,
   "id": "47283536",
   "metadata": {},
   "outputs": [],
   "source": [
    "# Построение дерева с помощью рекурсивной функции\n",
    "\n",
    "def build_tree(data, labels):\n",
    "\n",
    "    gain, t, index = find_best_split(data, labels)\n",
    "\n",
    "    #  Базовый случай - прекращаем рекурсию, когда нет прироста в качества\n",
    "    if gain == 0:\n",
    "        return Leaf(data, labels)\n",
    "\n",
    "    true_data, false_data, true_labels, false_labels = split(data, labels, index, t)\n",
    "\n",
    "    # Рекурсивно строим два поддерева\n",
    "    true_branch = build_tree(true_data, true_labels)\n",
    "    false_branch = build_tree(false_data, false_labels)\n",
    "\n",
    "    # Возвращаем класс узла со всеми поддеревьями, то есть целого дерева\n",
    "    return Node(index, t, true_branch, false_branch)"
   ]
  },
  {
   "cell_type": "code",
   "execution_count": 11,
   "id": "323471ab",
   "metadata": {},
   "outputs": [],
   "source": [
    "#функция для формирования случайного леса.\n",
    "def random_forest(data, labels, n_trees):#n_trees-кол-во деревьев \n",
    "    forest = []\n",
    "    bootstrap = get_bootstrap(data, labels, n_trees)\n",
    "    \n",
    "    for b_data, b_labels in bootstrap:\n",
    "        forest.append(build_tree(b_data, b_labels))\n",
    "        \n",
    "    return forest"
   ]
  },
  {
   "cell_type": "code",
   "execution_count": 12,
   "id": "59918c92",
   "metadata": {},
   "outputs": [],
   "source": [
    "# Функция классификации отдельного объекта\n",
    "\n",
    "def classify_object(obj, node):\n",
    "\n",
    "    #  Останавливаем рекурсию, если достигли листа\n",
    "    if isinstance(node, Leaf):\n",
    "        answer = node.prediction\n",
    "        return answer\n",
    "\n",
    "    if obj[node.index] <= node.t:\n",
    "        return classify_object(obj, node.true_branch)\n",
    "    else:\n",
    "        return classify_object(obj, node.false_branch)"
   ]
  },
  {
   "cell_type": "code",
   "execution_count": 13,
   "id": "8b05e75b",
   "metadata": {},
   "outputs": [],
   "source": [
    "# функция формирования предсказания по выборке на одном дереве\n",
    "\n",
    "def predict(data, tree):\n",
    "    \n",
    "    classes = []\n",
    "    for obj in data:\n",
    "        prediction = classify_object(obj, tree)\n",
    "        classes.append(prediction)\n",
    "    return classes"
   ]
  },
  {
   "cell_type": "code",
   "execution_count": 14,
   "id": "14b0cb6d",
   "metadata": {},
   "outputs": [],
   "source": [
    "# предсказание голосованием деревьев\n",
    "\n",
    "def tree_vote(forest, data):\n",
    "\n",
    "    # добавим предсказания всех деревьев в список\n",
    "    predictions = []\n",
    "    for tree in forest:\n",
    "        predictions.append(predict(data, tree))\n",
    "    #print(predictions)\n",
    "\n",
    "    # сформируем список с предсказаниями для каждого объекта\n",
    "    predictions_per_object = list(zip(*predictions))\n",
    "    #print(predictions_per_object)\n",
    "\n",
    "    # выберем в качестве итогового предсказания для каждого объекта то,\n",
    "    # за которое проголосовало большинство деревьев\n",
    "    voted_predictions = []\n",
    "    for obj in predictions_per_object:\n",
    "        voted_predictions.append(max(set(obj), key=obj.count))\n",
    "        \n",
    "    return voted_predictions"
   ]
  },
  {
   "cell_type": "code",
   "execution_count": 15,
   "id": "09b7911c",
   "metadata": {},
   "outputs": [],
   "source": [
    "# Введем функцию подсчета точности как доли правильных ответов\n",
    "\n",
    "def accuracy_metric(actual, predicted):\n",
    "    correct = 0\n",
    "    for i in range(len(actual)):\n",
    "        if actual[i] == predicted[i]:\n",
    "            correct += 1\n",
    "    return correct / float(len(actual)) * 100.0"
   ]
  },
  {
   "cell_type": "markdown",
   "id": "79ab8c3e",
   "metadata": {},
   "source": [
    "**1. Обучить любую модель классификации на датасете IRIS до применения самописного PCA (2 компоненты) и после него. Сравнить качество классификации по отложенной выборке.**"
   ]
  },
  {
   "cell_type": "code",
   "execution_count": 16,
   "id": "4f10c42f",
   "metadata": {},
   "outputs": [
    {
     "name": "stdout",
     "output_type": "stream",
     "text": [
      "(150, 4)\n"
     ]
    }
   ],
   "source": [
    "# Загрузим датасет IRIS\n",
    "iris = load_iris()\n",
    "X = iris.data\n",
    "y = iris.target\n",
    "\n",
    "print(X.shape)"
   ]
  },
  {
   "cell_type": "code",
   "execution_count": 17,
   "id": "1f87a153",
   "metadata": {},
   "outputs": [],
   "source": [
    "# Разобьем выборку на обучающую и тестовую\n",
    "train_data, test_data, train_labels, test_labels = train_test_split(X, y, test_size=0.3, random_state=42)"
   ]
  },
  {
   "cell_type": "code",
   "execution_count": 18,
   "id": "234b5f14",
   "metadata": {},
   "outputs": [],
   "source": [
    "def metrics_random_forest(train_data, train_labels, n_trees):\n",
    "    my_forest = random_forest(train_data, train_labels, n_trees)\n",
    "    # Получим ответы для обучающей выборки \n",
    "    train_answers = tree_vote(my_forest, train_data)\n",
    "    # И получим ответы для тестовой выборки\n",
    "    test_answers = tree_vote(my_forest, test_data)\n",
    "    # Точность на обучающей выборке\n",
    "    train_accuracy = accuracy_metric(train_labels, train_answers)\n",
    "    # Точность на тестовой выборке\n",
    "    test_accuracy = accuracy_metric(test_labels, test_answers)\n",
    "    return test_accuracy"
   ]
  },
  {
   "cell_type": "code",
   "execution_count": 19,
   "id": "5e50deac",
   "metadata": {},
   "outputs": [
    {
     "name": "stdout",
     "output_type": "stream",
     "text": [
      "95.55555555555556\n"
     ]
    }
   ],
   "source": [
    "print(metrics_random_forest(train_data, train_labels, 2))"
   ]
  },
  {
   "cell_type": "code",
   "execution_count": 20,
   "id": "06c67b0d",
   "metadata": {},
   "outputs": [],
   "source": [
    "def pca(X, n_components):\n",
    "    # Центрирование данных\n",
    "    X = X - np.mean(X, axis=0)\n",
    "    \n",
    "    # Вычисление матрицы ковариации данных\n",
    "    cov_matrix = np.cov(X.T)\n",
    "    \n",
    "    # Вычисление сингулярного разложения матрицы ковариации данных\n",
    "    U, S, V = np.linalg.svd(cov_matrix)\n",
    "    \n",
    "    # Сортировка сингулярных значений в порядке убывания и соответствующих им сингулярных векторов\n",
    "    idx = np.argsort(-S)\n",
    "    U = U[:, idx]\n",
    "    S = S[idx]\n",
    "    \n",
    "    # Выбор наиболее значимых сингулярных векторов\n",
    "    U_reduced = U[:, :n_components]\n",
    "    \n",
    "    # Умножение матрицы данных на выбранные сингулярные векторы\n",
    "    X_reduced = np.dot(X, U_reduced)\n",
    "    \n",
    "    return X_reduced"
   ]
  },
  {
   "cell_type": "code",
   "execution_count": 21,
   "id": "9cf46395",
   "metadata": {},
   "outputs": [],
   "source": [
    "X_reduced = pca(X, 2)"
   ]
  },
  {
   "cell_type": "code",
   "execution_count": 22,
   "id": "1627b00c",
   "metadata": {},
   "outputs": [
    {
     "data": {
      "image/png": "[encoded data removed]",
      "text/plain": [
       "<Figure size 640x480 with 1 Axes>"
      ]
     },
     "metadata": {},
     "output_type": "display_data"
    }
   ],
   "source": [
    "plt.figure()\n",
    "y = iris.target\n",
    "for c, i in zip(\"rgb\", [0, 1, 2]):\n",
    "    plt.scatter(X_reduced[y==i, 0], X_reduced[y==i, 1], c=c)\n",
    "plt.xlabel('Главная компонента 1')\n",
    "plt.ylabel('Главная компонента 2')\n",
    "plt.title('PCA датасета IRIS')\n",
    "plt.show()"
   ]
  },
  {
   "cell_type": "code",
   "execution_count": 23,
   "id": "35ebf3db",
   "metadata": {},
   "outputs": [],
   "source": [
    "# Уменьшим размерность с помощью PCA, написанной выше.\n",
    "X_reduced = pca(X, 2)"
   ]
  },
  {
   "cell_type": "code",
   "execution_count": 24,
   "id": "b0a0413b",
   "metadata": {},
   "outputs": [],
   "source": [
    "# Разобьем выборку на обучающую и тестовую\n",
    "train_data, test_data, train_labels, test_labels = train_test_split(X_reduced, y, test_size=0.3, random_state=42)"
   ]
  },
  {
   "cell_type": "code",
   "execution_count": 25,
   "id": "bb6b5117",
   "metadata": {},
   "outputs": [
    {
     "name": "stdout",
     "output_type": "stream",
     "text": [
      "84.44444444444444\n"
     ]
    }
   ],
   "source": [
    "print(metrics_random_forest(train_data, train_labels, 2))"
   ]
  },
  {
   "cell_type": "markdown",
   "id": "329a47bb",
   "metadata": {},
   "source": [
    "После уменьшения размерности, точность снизилась. Это связано с потерей части информации, что в нашем случаи и привело к ухудшению показателей."
   ]
  },
  {
   "cell_type": "code",
   "execution_count": null,
   "id": "0bde3b42",
   "metadata": {},
   "outputs": [],
   "source": []
  }
 ],
 "metadata": {
  "kernelspec": {
   "display_name": "Python 3 (ipykernel)",
   "language": "python",
   "name": "python3"
  },
  "language_info": {
   "codemirror_mode": {
    "name": "ipython",
    "version": 3
   },
   "file_extension": ".py",
   "mimetype": "text/x-python",
   "name": "python",
   "nbconvert_exporter": "python",
   "pygments_lexer": "ipython3",
   "version": "3.9.13"
  }
 },
 "nbformat": 4,
 "nbformat_minor": 5
}
