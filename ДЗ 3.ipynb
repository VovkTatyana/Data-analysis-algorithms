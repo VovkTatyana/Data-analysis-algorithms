{
 "cells": [
  {
   "cell_type": "code",
   "execution_count": 1,
   "id": "2ed687e7",
   "metadata": {},
   "outputs": [],
   "source": [
    "import numpy as np\n",
    "import matplotlib.pyplot as plt"
   ]
  },
  {
   "cell_type": "code",
   "execution_count": 2,
   "id": "d0dcc9e7",
   "metadata": {},
   "outputs": [
    {
     "name": "stdout",
     "output_type": "stream",
     "text": [
      "[[1.00e+00 1.00e+00 5.00e+02 1.00e+00]\n",
      " [1.00e+00 1.00e+00 7.00e+02 1.00e+00]\n",
      " [1.00e+00 2.00e+00 7.50e+02 2.00e+00]\n",
      " [1.00e+00 5.00e+00 6.00e+02 1.00e+00]\n",
      " [1.00e+00 3.00e+00 1.45e+03 2.00e+00]\n",
      " [1.00e+00 0.00e+00 8.00e+02 1.00e+00]\n",
      " [1.00e+00 5.00e+00 1.50e+03 3.00e+00]\n",
      " [1.00e+00 1.00e+01 2.00e+03 3.00e+00]\n",
      " [1.00e+00 1.00e+00 4.50e+02 1.00e+00]\n",
      " [1.00e+00 2.00e+00 1.00e+03 2.00e+00]]\n",
      "[0. 0. 1. 0. 1. 0. 1. 0. 1. 1.]\n"
     ]
    }
   ],
   "source": [
    "X = np.array([ [   1,    1,  500,    1],\n",
    "               [   1,    1,  700,    1],\n",
    "               [   1,    2,  750,    2],\n",
    "               [   1,    5,  600,    1],\n",
    "               [   1,    3, 1450,    2],\n",
    "               [   1,    0,  800,    1],\n",
    "               [   1,    5, 1500,    3],\n",
    "               [   1,   10, 2000,    3],\n",
    "               [   1,    1,  450,    1],\n",
    "               [   1,    2, 1000,    2]], dtype=np.float64)\n",
    "\n",
    "y = np.array([0, 0, 1, 0, 1, 0, 1, 0, 1, 1], dtype=np.float64)\n",
    "print(X)\n",
    "print(y)"
   ]
  },
  {
   "cell_type": "code",
   "execution_count": 3,
   "id": "ce6db699",
   "metadata": {},
   "outputs": [],
   "source": [
    "def standard_scale(x):\n",
    "    res = (x - x.mean()) / x.std()\n",
    "    return res"
   ]
  },
  {
   "cell_type": "code",
   "execution_count": 4,
   "id": "402f54ed",
   "metadata": {},
   "outputs": [
    {
     "data": {
      "text/plain": [
       "array([[ 1.        ,  1.        , -0.97958969,  1.        ],\n",
       "       [ 1.        ,  1.        , -0.56713087,  1.        ],\n",
       "       [ 1.        ,  2.        , -0.46401617,  2.        ],\n",
       "       [ 1.        ,  5.        , -0.77336028,  1.        ],\n",
       "       [ 1.        ,  3.        ,  0.97958969,  2.        ],\n",
       "       [ 1.        ,  0.        , -0.36090146,  1.        ],\n",
       "       [ 1.        ,  5.        ,  1.08270439,  3.        ],\n",
       "       [ 1.        , 10.        ,  2.11385144,  3.        ],\n",
       "       [ 1.        ,  1.        , -1.08270439,  1.        ],\n",
       "       [ 1.        ,  2.        ,  0.05155735,  2.        ]])"
      ]
     },
     "execution_count": 4,
     "metadata": {},
     "output_type": "execute_result"
    }
   ],
   "source": [
    "X_st = X.copy()\n",
    "X_st[:, 2] = standard_scale(X[:, 2])\n",
    "X_st"
   ]
  },
  {
   "cell_type": "markdown",
   "id": "78dbbc8f",
   "metadata": {},
   "source": [
    "1) *Измените функцию calc_logloss так, чтобы нули по возможности не попадали в np.log."
   ]
  },
  {
   "cell_type": "code",
   "execution_count": 5,
   "id": "9e341226",
   "metadata": {},
   "outputs": [],
   "source": [
    "def calc_logloss(y, y_pred):\n",
    "    err = 0\n",
    "    for i in range (len(y)):\n",
    "        if y_pred[i] == 0:\n",
    "            err -= ((1.0 - y[i]) * np.log(1.0 - y_pred[i]))\n",
    "        elif y_pred[i] == 1:\n",
    "            err -= (y[i] * np.log(y_pred[i]))\n",
    "        else:\n",
    "            err -= (y[i] * np.log(y_pred[i]) + (1.0 - y[i]) * np.log(1.0 - y_pred[i]))/len(y)\n",
    "        #print(err)\n",
    "    return err "
   ]
  },
  {
   "cell_type": "markdown",
   "id": "abd1ca81",
   "metadata": {},
   "source": [
    "Проверяем будет ли функция считать ошибку если предсказанное значение является 0 или 1:"
   ]
  },
  {
   "cell_type": "code",
   "execution_count": 6,
   "id": "5cd22f99",
   "metadata": {},
   "outputs": [
    {
     "data": {
      "text/plain": [
       "-0.6931471805599453"
      ]
     },
     "execution_count": 6,
     "metadata": {},
     "output_type": "execute_result"
    }
   ],
   "source": [
    "np.log(0.5)"
   ]
  },
  {
   "cell_type": "code",
   "execution_count": 7,
   "id": "59c1ec97",
   "metadata": {},
   "outputs": [
    {
     "data": {
      "text/plain": [
       "0.34657359027997264"
      ]
     },
     "execution_count": 7,
     "metadata": {},
     "output_type": "execute_result"
    }
   ],
   "source": [
    "y1 = np.array([1, 0])\n",
    "y_pred1 = np.array([0.5, 0])\n",
    "calc_logloss(y1, y_pred1)"
   ]
  },
  {
   "cell_type": "code",
   "execution_count": 8,
   "id": "35c9ef44",
   "metadata": {},
   "outputs": [
    {
     "data": {
      "text/plain": [
       "0.11157177565710485"
      ]
     },
     "execution_count": 8,
     "metadata": {},
     "output_type": "execute_result"
    }
   ],
   "source": [
    "y1 = np.array([1, 0])\n",
    "y_pred1 = np.array([1, 0.2])\n",
    "calc_logloss(y1, y_pred1)"
   ]
  },
  {
   "cell_type": "code",
   "execution_count": 9,
   "id": "447ba434",
   "metadata": {},
   "outputs": [
    {
     "data": {
      "text/plain": [
       "0.39925384810888576"
      ]
     },
     "execution_count": 9,
     "metadata": {},
     "output_type": "execute_result"
    }
   ],
   "source": [
    "y1 = np.array([1, 0])\n",
    "y_pred1 = np.array([0.9, 0.5])\n",
    "calc_logloss(y1, y_pred1)"
   ]
  },
  {
   "cell_type": "markdown",
   "id": "6237137e",
   "metadata": {},
   "source": [
    "2) Подберите аргументы функции eval_model для логистической регрессии таким образом, чтобы log loss был минимальным."
   ]
  },
  {
   "cell_type": "code",
   "execution_count": 10,
   "id": "71991fcd",
   "metadata": {},
   "outputs": [],
   "source": [
    "def sigmoid(z):\n",
    "    res = 1 / (1 + np.exp(-z))\n",
    "    return res"
   ]
  },
  {
   "cell_type": "code",
   "execution_count": 11,
   "id": "29e3d95a",
   "metadata": {},
   "outputs": [],
   "source": [
    "def eval_model(X, y, iterations, eta=1e-4):\n",
    "    np.random.seed(42)\n",
    "    W = np.random.randn(X.shape[1])\n",
    "    n = X.shape[0]\n",
    "    \n",
    "    for i in range(iterations):\n",
    "        z = np.dot(X, W)\n",
    "        y_pred = sigmoid(z)\n",
    "        err = calc_logloss(y, y_pred)\n",
    "        \n",
    "        dQ = 1/n * X.T @ (y_pred - y)\n",
    "        W -= eta * dQ\n",
    "        if i % (iterations / 10) == 0:\n",
    "            print(i, W, err)\n",
    "    return W"
   ]
  },
  {
   "cell_type": "markdown",
   "id": "6e8acc97",
   "metadata": {},
   "source": [
    "Было:"
   ]
  },
  {
   "cell_type": "code",
   "execution_count": 12,
   "id": "15636337",
   "metadata": {},
   "outputs": [
    {
     "name": "stdout",
     "output_type": "stream",
     "text": [
      "0 [ 0.49667621 -0.13840939  0.6476858   1.52297324] 1.1785958344356264\n",
      "50 [ 0.494784   -0.14564801  0.6475462   1.52014828] 1.1657985749255426\n",
      "100 [ 0.49290109 -0.15285535  0.64740132  1.51733474] 1.1531112685708471\n",
      "150 [ 0.49102761 -0.16003088  0.64725118  1.51453281] 1.1405352753305018\n",
      "200 [ 0.48916364 -0.16717404  0.64709581  1.51174267] 1.1280719326917485\n",
      "250 [ 0.48730929 -0.17428428  0.64693524  1.50896452] 1.1157225565960733\n",
      "300 [ 0.48546465 -0.18136107  0.64676951  1.50619853] 1.103488442622439\n",
      "350 [ 0.48362982 -0.18840385  0.64659868  1.5034449 ] 1.0913708674192037\n",
      "400 [ 0.48180488 -0.19541206  0.64642281  1.50070383] 1.0793710903721336\n",
      "450 [ 0.47998993 -0.20238516  0.64624195  1.49797551] 1.0674903554915993\n"
     ]
    }
   ],
   "source": [
    "W = eval_model(X_st, y, iterations=500, eta=1e-4)"
   ]
  },
  {
   "cell_type": "markdown",
   "id": "c2e3a5d5",
   "metadata": {},
   "source": [
    "Стало:"
   ]
  },
  {
   "cell_type": "code",
   "execution_count": 13,
   "id": "31b144d1",
   "metadata": {
    "scrolled": false
   },
   "outputs": [
    {
     "name": "stdout",
     "output_type": "stream",
     "text": [
      "0 [ 0.11732727 -1.58914029  0.62030812  0.95688359] 1.1785958344356264\n",
      "110 [-2.89131483 -1.08039003  0.31785452  3.41865542] 0.3690668430326905\n",
      "220 [-4.69112005 -0.99764135 -0.42358672  4.54612843] 0.31759440936813244\n",
      "330 [-5.99002891 -1.05302872 -0.88774001  5.46085515] 0.2924487122942722\n",
      "440 [-7.03260607 -1.11249033 -1.2407543   6.23267867] 0.2759053132264223\n",
      "550 [-7.92366684 -1.17070488 -1.53310732  6.91171368] 0.2636495410461249\n",
      "660 [-8.71618637 -1.22692684 -1.78744473  7.52706504] 0.25385953687853297\n",
      "770 [-9.4396611  -1.28111376 -2.01586954  8.09592938] 0.24564531750884724\n",
      "880 [-10.11178116  -1.33339111  -2.22544939   8.62905489] 0.23852176183512466\n",
      "990 [-10.7438102   -1.3839122   -2.42059783   9.13350732] 0.23220113622857758\n"
     ]
    }
   ],
   "source": [
    "W = eval_model(X_st, y, iterations=1100, eta=1)"
   ]
  },
  {
   "cell_type": "markdown",
   "id": "c56c9f2c",
   "metadata": {},
   "source": [
    "3) Создайте функцию calc_pred_proba, возвращающую предсказанную вероятность класса 1 (на вход подаются W, который уже посчитан функцией eval_model и X, на выходе - массив y_pred_proba)."
   ]
  },
  {
   "cell_type": "code",
   "execution_count": 14,
   "id": "2af7f41b",
   "metadata": {},
   "outputs": [],
   "source": [
    "def calc_pred_proba (W, X):\n",
    "    y_pred_proba = sigmoid(np.dot(X,W))\n",
    "    return y_pred_proba "
   ]
  },
  {
   "cell_type": "code",
   "execution_count": 15,
   "id": "3e368345",
   "metadata": {},
   "outputs": [
    {
     "data": {
      "text/plain": [
       "array([0.3518314 , 0.15650524, 0.99802391, 0.0010299 , 0.73791188,\n",
       "       0.31242323, 0.99945375, 0.08837061, 0.41517018, 0.99248136])"
      ]
     },
     "execution_count": 15,
     "metadata": {},
     "output_type": "execute_result"
    }
   ],
   "source": [
    "calc_pred_proba (W, X_st)"
   ]
  },
  {
   "cell_type": "markdown",
   "id": "265555a3",
   "metadata": {},
   "source": [
    "4) Создайте функцию calc_pred, возвращающую предсказанный класс. На вход подаётся W, который уже посчитан функцией eval_model, и X, на выходе — массив y_pred."
   ]
  },
  {
   "cell_type": "code",
   "execution_count": 16,
   "id": "901d5c8c",
   "metadata": {},
   "outputs": [],
   "source": [
    "def calc_pred (W, X):\n",
    "    y_pred = [1 if i > 0.5 else 0 for i in sigmoid(np.dot(X,W))]\n",
    "    return y_pred"
   ]
  },
  {
   "cell_type": "code",
   "execution_count": 17,
   "id": "aa55fa99",
   "metadata": {},
   "outputs": [
    {
     "data": {
      "text/plain": [
       "[0, 0, 1, 0, 1, 0, 1, 0, 0, 1]"
      ]
     },
     "execution_count": 17,
     "metadata": {},
     "output_type": "execute_result"
    }
   ],
   "source": [
    "calc_pred(W, X_st)"
   ]
  },
  {
   "cell_type": "code",
   "execution_count": 18,
   "id": "62877d19",
   "metadata": {},
   "outputs": [
    {
     "data": {
      "text/plain": [
       "array([-0.61099875, -1.6844642 ,  6.22465485, -6.87726021,  1.03514361,\n",
       "       -0.78881474,  7.51188047, -2.33369406, -0.34263239,  4.88282304])"
      ]
     },
     "execution_count": 18,
     "metadata": {},
     "output_type": "execute_result"
    }
   ],
   "source": [
    "np.dot(X_st, W)"
   ]
  },
  {
   "cell_type": "code",
   "execution_count": null,
   "id": "a1454116",
   "metadata": {},
   "outputs": [],
   "source": []
  }
 ],
 "metadata": {
  "kernelspec": {
   "display_name": "Python 3 (ipykernel)",
   "language": "python",
   "name": "python3"
  },
  "language_info": {
   "codemirror_mode": {
    "name": "ipython",
    "version": 3
   },
   "file_extension": ".py",
   "mimetype": "text/x-python",
   "name": "python",
   "nbconvert_exporter": "python",
   "pygments_lexer": "ipython3",
   "version": "3.9.13"
  }
 },
 "nbformat": 4,
 "nbformat_minor": 5
}
